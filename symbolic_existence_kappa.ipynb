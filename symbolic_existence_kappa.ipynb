{
 "cells": [
  {
   "cell_type": "code",
   "execution_count": 1,
   "metadata": {},
   "outputs": [],
   "source": [
    "from sympy import *"
   ]
  },
  {
   "cell_type": "code",
   "execution_count": 2,
   "metadata": {},
   "outputs": [],
   "source": [
    "m,rho, sbi,bars,bv, kap = symbols(r'm \\rho s_B \\bar{s}_B b_v \\kappa',positive=True)\n",
    "b = Symbol(r\"\\tilde{b}\")\n",
    "a = Symbol(\"a\")\n",
    "abar = Symbol(r\"\\bar{a}\",positive=True)\n",
    "b0 = Symbol(\"b_0\")\n",
    "FB = Function(\"F_B\")(sbi)\n",
    "fB = Function(\"f_B\")(sbi)\n",
    "FBsymb = Symbol(\"F_B\")\n",
    "fBsymb = Symbol(\"f_B\")"
   ]
  },
  {
   "cell_type": "markdown",
   "metadata": {},
   "source": [
    "##### Analyzing $\\phi_B$"
   ]
  },
  {
   "cell_type": "code",
   "execution_count": 3,
   "metadata": {},
   "outputs": [
    {
     "data": {
      "text/latex": [
       "$\\displaystyle - 2 \\kappa^{2} \\rho \\tilde{b} b_{v} m^{2} s_{B} f_{B}{\\left(s_{B} \\right)} - 2 \\kappa^{2} \\rho \\tilde{b} b_{v} s_{B} f_{B}{\\left(s_{B} \\right)} + 2 \\kappa^{2} \\rho b_{v}^{2} m^{2} s_{B} F_{B}{\\left(s_{B} \\right)} f_{B}{\\left(s_{B} \\right)} + 2 \\kappa^{2} \\rho b_{v}^{2} s_{B} F_{B}{\\left(s_{B} \\right)} f_{B}{\\left(s_{B} \\right)} + \\kappa^{2} \\tilde{b}^{2} m^{2} + \\kappa^{2} \\tilde{b}^{2} - 2 \\kappa^{2} \\tilde{b} b_{v} m^{2} F_{B}{\\left(s_{B} \\right)} - 2 \\kappa^{2} \\tilde{b} b_{v} F_{B}{\\left(s_{B} \\right)} + \\kappa^{2} b_{v}^{2} m^{2} F_{B}^{2}{\\left(s_{B} \\right)} + \\kappa^{2} b_{v}^{2} F_{B}^{2}{\\left(s_{B} \\right)} + 2 \\kappa \\rho \\tilde{b} b_{v} m^{2} s_{B} f_{B}{\\left(s_{B} \\right)} + 2 \\kappa \\rho \\tilde{b} b_{v} s_{B} f_{B}{\\left(s_{B} \\right)} + 2 \\kappa \\rho b_{0} b_{v} m^{2} s_{B} f_{B}{\\left(s_{B} \\right)} + 2 \\kappa \\rho b_{0} b_{v} s_{B} f_{B}{\\left(s_{B} \\right)} - 2 \\kappa \\tilde{b}^{2} m^{2} - 2 \\kappa \\tilde{b}^{2} - 2 \\kappa \\tilde{b} b_{0} m^{2} - 2 \\kappa \\tilde{b} b_{0} + 2 \\kappa \\tilde{b} b_{v} m^{2} F_{B}{\\left(s_{B} \\right)} + 2 \\kappa \\tilde{b} b_{v} F_{B}{\\left(s_{B} \\right)} + 2 \\kappa b_{0} b_{v} m^{2} F_{B}{\\left(s_{B} \\right)} + 2 \\kappa b_{0} b_{v} F_{B}{\\left(s_{B} \\right)} + \\tilde{b}^{2} m^{2} + \\tilde{b}^{2} + 2 \\tilde{b} b_{0} m^{2} + 2 \\tilde{b} b_{0} + a^{2} \\left(m^{2} + 1\\right) + a \\left(- 2 \\kappa \\rho b_{v} m^{2} s_{B} f_{B}{\\left(s_{B} \\right)} + 2 \\kappa \\rho b_{v} s_{B} f_{B}{\\left(s_{B} \\right)} + 2 \\kappa \\tilde{b} m^{2} - 2 \\kappa \\tilde{b} - 2 \\kappa b_{v} m^{2} F_{B}{\\left(s_{B} \\right)} + 2 \\kappa b_{v} F_{B}{\\left(s_{B} \\right)} - 2 \\tilde{b} m^{2} + 2 \\tilde{b} - 2 b_{0} m^{2} + 2 b_{0}\\right) + b_{0}^{2} m^{2} + b_{0}^{2}$"
      ],
      "text/plain": [
       "-2*\\kappa**2*\\rho*\\tilde{b}*b_v*m**2*s_B*f_B(s_B) - 2*\\kappa**2*\\rho*\\tilde{b}*b_v*s_B*f_B(s_B) + 2*\\kappa**2*\\rho*b_v**2*m**2*s_B*F_B(s_B)*f_B(s_B) + 2*\\kappa**2*\\rho*b_v**2*s_B*F_B(s_B)*f_B(s_B) + \\kappa**2*\\tilde{b}**2*m**2 + \\kappa**2*\\tilde{b}**2 - 2*\\kappa**2*\\tilde{b}*b_v*m**2*F_B(s_B) - 2*\\kappa**2*\\tilde{b}*b_v*F_B(s_B) + \\kappa**2*b_v**2*m**2*F_B(s_B)**2 + \\kappa**2*b_v**2*F_B(s_B)**2 + 2*\\kappa*\\rho*\\tilde{b}*b_v*m**2*s_B*f_B(s_B) + 2*\\kappa*\\rho*\\tilde{b}*b_v*s_B*f_B(s_B) + 2*\\kappa*\\rho*b_0*b_v*m**2*s_B*f_B(s_B) + 2*\\kappa*\\rho*b_0*b_v*s_B*f_B(s_B) - 2*\\kappa*\\tilde{b}**2*m**2 - 2*\\kappa*\\tilde{b}**2 - 2*\\kappa*\\tilde{b}*b_0*m**2 - 2*\\kappa*\\tilde{b}*b_0 + 2*\\kappa*\\tilde{b}*b_v*m**2*F_B(s_B) + 2*\\kappa*\\tilde{b}*b_v*F_B(s_B) + 2*\\kappa*b_0*b_v*m**2*F_B(s_B) + 2*\\kappa*b_0*b_v*F_B(s_B) + \\tilde{b}**2*m**2 + \\tilde{b}**2 + 2*\\tilde{b}*b_0*m**2 + 2*\\tilde{b}*b_0 + a**2*(m**2 + 1) + a*(-2*\\kappa*\\rho*b_v*m**2*s_B*f_B(s_B) + 2*\\kappa*\\rho*b_v*s_B*f_B(s_B) + 2*\\kappa*\\tilde{b}*m**2 - 2*\\kappa*\\tilde{b} - 2*\\kappa*b_v*m**2*F_B(s_B) + 2*\\kappa*b_v*F_B(s_B) - 2*\\tilde{b}*m**2 + 2*\\tilde{b} - 2*b_0*m**2 + 2*b_0) + b_0**2*m**2 + b_0**2"
      ]
     },
     "metadata": {},
     "output_type": "display_data"
    }
   ],
   "source": [
    "Tkap = kap*bv*FB + (1-kap)*b + b0 + a\n",
    "Mkap = kap*bv*FB + (1-kap) * b + b0 - a\n",
    "\n",
    "phi = Tkap**2 + m**2 * Mkap**2 + 2*sbi*kap*rho *bv*fB *(Tkap + m**2*Mkap)\n",
    "display(collect(expand(phi),[a**2,a]))"
   ]
  },
  {
   "cell_type": "markdown",
   "metadata": {},
   "source": [
    "Indeed, the leading coefficient is positive."
   ]
  },
  {
   "cell_type": "code",
   "execution_count": 4,
   "metadata": {},
   "outputs": [
    {
     "data": {
      "text/latex": [
       "$\\displaystyle - \\kappa^{2} \\rho^{2} b_{v}^{2} m^{4} s_{B}^{2} f_{B}^{2}{\\left(s_{B} \\right)} + 2 \\kappa^{2} \\rho^{2} b_{v}^{2} m^{2} s_{B}^{2} f_{B}^{2}{\\left(s_{B} \\right)} - \\kappa^{2} \\rho^{2} b_{v}^{2} s_{B}^{2} f_{B}^{2}{\\left(s_{B} \\right)} + 8 \\kappa^{2} \\rho b_{v}^{2} m^{2} s_{B} F_{B}{\\left(s_{B} \\right)} f_{B}{\\left(s_{B} \\right)} + 4 \\kappa^{2} b_{v}^{2} m^{2} F_{B}^{2}{\\left(s_{B} \\right)} + 8 \\kappa \\rho b_{0} b_{v} m^{2} s_{B} f_{B}{\\left(s_{B} \\right)} + 8 \\kappa b_{0} b_{v} m^{2} F_{B}{\\left(s_{B} \\right)} + \\tilde{b}^{2} \\cdot \\left(4 \\kappa^{2} m^{2} - 8 \\kappa m^{2} + 4 m^{2}\\right) + \\tilde{b} \\left(- 8 \\kappa^{2} \\rho b_{v} m^{2} s_{B} f_{B}{\\left(s_{B} \\right)} - 8 \\kappa^{2} b_{v} m^{2} F_{B}{\\left(s_{B} \\right)} + 8 \\kappa \\rho b_{v} m^{2} s_{B} f_{B}{\\left(s_{B} \\right)} - 8 \\kappa b_{0} m^{2} + 8 \\kappa b_{v} m^{2} F_{B}{\\left(s_{B} \\right)} + 8 b_{0} m^{2}\\right) + 4 b_{0}^{2} m^{2}$"
      ],
      "text/plain": [
       "-\\kappa**2*\\rho**2*b_v**2*m**4*s_B**2*f_B(s_B)**2 + 2*\\kappa**2*\\rho**2*b_v**2*m**2*s_B**2*f_B(s_B)**2 - \\kappa**2*\\rho**2*b_v**2*s_B**2*f_B(s_B)**2 + 8*\\kappa**2*\\rho*b_v**2*m**2*s_B*F_B(s_B)*f_B(s_B) + 4*\\kappa**2*b_v**2*m**2*F_B(s_B)**2 + 8*\\kappa*\\rho*b_0*b_v*m**2*s_B*f_B(s_B) + 8*\\kappa*b_0*b_v*m**2*F_B(s_B) + \\tilde{b}**2*(4*\\kappa**2*m**2 - 8*\\kappa*m**2 + 4*m**2) + \\tilde{b}*(-8*\\kappa**2*\\rho*b_v*m**2*s_B*f_B(s_B) - 8*\\kappa**2*b_v*m**2*F_B(s_B) + 8*\\kappa*\\rho*b_v*m**2*s_B*f_B(s_B) - 8*\\kappa*b_0*m**2 + 8*\\kappa*b_v*m**2*F_B(s_B) + 8*b_0*m**2) + 4*b_0**2*m**2"
      ]
     },
     "metadata": {},
     "output_type": "display_data"
    }
   ],
   "source": [
    "asol = simplify(solve(diff(phi,a),a)[0])\n",
    "phi = simplify(phi.subs(a,asol))*(m**2 +1)\n",
    "display(collect(expand(phi),[b**2,b]))"
   ]
  },
  {
   "cell_type": "markdown",
   "metadata": {},
   "source": [
    "Notice that $\\tilde{\\kappa}^2 -2 \\tilde{\\kappa} + 1 = (\\tilde{\\kappa}-1)^2 > 0$ for $\\tilde{\\kappa} \\neq 1$, showing that the leading coefficient is positive. Moreover, observe that for $\\tilde{\\kappa}=1$, the polynomial is actually constant in $\\tilde{b}$, i.e. of degree zero."
   ]
  },
  {
   "cell_type": "code",
   "execution_count": 5,
   "metadata": {},
   "outputs": [
    {
     "data": {
      "text/latex": [
       "$\\displaystyle \\frac{\\kappa \\rho b_{v} s_{B} f_{B}{\\left(s_{B} \\right)} + \\kappa b_{v} F_{B}{\\left(s_{B} \\right)} + b_{0}}{\\kappa - 1}$"
      ],
      "text/plain": [
       "(\\kappa*\\rho*b_v*s_B*f_B(s_B) + \\kappa*b_v*F_B(s_B) + b_0)/(\\kappa - 1)"
      ]
     },
     "metadata": {},
     "output_type": "display_data"
    }
   ],
   "source": [
    "bsol = simplify(solve(Eq(diff(phi,b),0),b)[0])\n",
    "display(bsol)"
   ]
  },
  {
   "cell_type": "markdown",
   "metadata": {},
   "source": [
    "If $\\tilde{\\kappa} \\neq 1$, after minimizing over $\\tilde{b}$, we conclude that the expression is minimal for a negative $\\tilde{b}$. For $\\tilde{\\kappa} = 1$, the expression does not change with $\\tilde{b}$. In either case, we can plug in $\\tilde{b} = 0$ because it minimizes the expression over $\\tilde{b}$ in our admissible range $[0,b_v]$."
   ]
  },
  {
   "cell_type": "code",
   "execution_count": 6,
   "metadata": {},
   "outputs": [
    {
     "data": {
      "text/latex": [
       "$\\displaystyle - \\kappa^{2} \\rho^{2} b_{v}^{2} m^{4} s_{B}^{2} f_{B}^{2}{\\left(s_{B} \\right)} + 2 \\kappa^{2} \\rho^{2} b_{v}^{2} m^{2} s_{B}^{2} f_{B}^{2}{\\left(s_{B} \\right)} - \\kappa^{2} \\rho^{2} b_{v}^{2} s_{B}^{2} f_{B}^{2}{\\left(s_{B} \\right)} + 8 \\kappa^{2} \\rho b_{v}^{2} m^{2} s_{B} F_{B}{\\left(s_{B} \\right)} f_{B}{\\left(s_{B} \\right)} + 4 \\kappa^{2} b_{v}^{2} m^{2} F_{B}^{2}{\\left(s_{B} \\right)} + 4 b_{0}^{2} m^{2} + b_{0} \\cdot \\left(8 \\kappa \\rho b_{v} m^{2} s_{B} f_{B}{\\left(s_{B} \\right)} + 8 \\kappa b_{v} m^{2} F_{B}{\\left(s_{B} \\right)}\\right)$"
      ],
      "text/plain": [
       "-\\kappa**2*\\rho**2*b_v**2*m**4*s_B**2*f_B(s_B)**2 + 2*\\kappa**2*\\rho**2*b_v**2*m**2*s_B**2*f_B(s_B)**2 - \\kappa**2*\\rho**2*b_v**2*s_B**2*f_B(s_B)**2 + 8*\\kappa**2*\\rho*b_v**2*m**2*s_B*F_B(s_B)*f_B(s_B) + 4*\\kappa**2*b_v**2*m**2*F_B(s_B)**2 + 4*b_0**2*m**2 + b_0*(8*\\kappa*\\rho*b_v*m**2*s_B*f_B(s_B) + 8*\\kappa*b_v*m**2*F_B(s_B))"
      ]
     },
     "metadata": {},
     "output_type": "display_data"
    }
   ],
   "source": [
    "phi = collect(expand(simplify(phi.subs(b,0))),b0)\n",
    "display(phi)"
   ]
  },
  {
   "cell_type": "markdown",
   "metadata": {},
   "source": [
    "Observe that the coefficient in front of $b_0$ is strictly positive, allowing us to minimize easily over $b_0$."
   ]
  },
  {
   "cell_type": "code",
   "execution_count": 7,
   "metadata": {},
   "outputs": [
    {
     "data": {
      "text/latex": [
       "$\\displaystyle - \\kappa b_{v} \\left(\\rho s_{B} f_{B}{\\left(s_{B} \\right)} + F_{B}{\\left(s_{B} \\right)}\\right)$"
      ],
      "text/plain": [
       "-\\kappa*b_v*(\\rho*s_B*f_B(s_B) + F_B(s_B))"
      ]
     },
     "metadata": {},
     "output_type": "display_data"
    }
   ],
   "source": [
    "b0sol = simplify(solve(Eq(diff(phi,b0),0),b0)[0])\n",
    "display(b0sol)"
   ]
  },
  {
   "cell_type": "markdown",
   "metadata": {},
   "source": [
    "This expression is negative. Since we allow only positive values for $b_0$, our expression is minimal for $b_0 = 0$. The next step is to plug in $b_0=0$ and to obtain a polynomial in $s_B$, regarding $F_B$ and $f_B$ as constants."
   ]
  },
  {
   "cell_type": "code",
   "execution_count": 8,
   "metadata": {},
   "outputs": [
    {
     "data": {
      "text/latex": [
       "$\\displaystyle 4 F_{B}^{2} \\kappa^{2} b_{v}^{2} m^{2} + 8 F_{B} \\kappa^{2} \\rho b_{v}^{2} f_{B} m^{2} s_{B} + s_{B}^{2} \\left(- \\kappa^{2} \\rho^{2} b_{v}^{2} f_{B}^{2} m^{4} + 2 \\kappa^{2} \\rho^{2} b_{v}^{2} f_{B}^{2} m^{2} - \\kappa^{2} \\rho^{2} b_{v}^{2} f_{B}^{2}\\right)$"
      ],
      "text/plain": [
       "4*F_B**2*\\kappa**2*b_v**2*m**2 + 8*F_B*\\kappa**2*\\rho*b_v**2*f_B*m**2*s_B + s_B**2*(-\\kappa**2*\\rho**2*b_v**2*f_B**2*m**4 + 2*\\kappa**2*\\rho**2*b_v**2*f_B**2*m**2 - \\kappa**2*\\rho**2*b_v**2*f_B**2)"
      ]
     },
     "metadata": {},
     "output_type": "display_data"
    }
   ],
   "source": [
    "phi = phi.subs(b0,0).subs(fB,fBsymb).subs(FB,FBsymb)\n",
    "display(collect(expand(phi),sbi))\n"
   ]
  },
  {
   "cell_type": "markdown",
   "metadata": {},
   "source": [
    "We see here that that the leading coefficient is negative as long as $m^4-2m^2 + 1 = (m^2 -1)^2$ is positive, i.e. for $m\\neq 1,-1$. Therefore, the polynomial expression is positive as long as $s_B$ is between the roots of the polynomial expression. For $m = 1$, the expression is always positive for $s_B\\geq 0$. We calculate the roots below."
   ]
  },
  {
   "cell_type": "code",
   "execution_count": 9,
   "metadata": {},
   "outputs": [
    {
     "data": {
      "text/latex": [
       "$\\displaystyle \\frac{2 F_{B} m}{\\rho f_{B} \\left(m^{2} - 2 m + 1\\right)}$"
      ],
      "text/plain": [
       "2*F_B*m/(\\rho*f_B*(m**2 - 2*m + 1))"
      ]
     },
     "metadata": {},
     "output_type": "display_data"
    },
    {
     "data": {
      "text/latex": [
       "$\\displaystyle - \\frac{2 F_{B} m}{\\rho f_{B} \\left(m^{2} + 2 m + 1\\right)}$"
      ],
      "text/plain": [
       "-2*F_B*m/(\\rho*f_B*(m**2 + 2*m + 1))"
      ]
     },
     "metadata": {},
     "output_type": "display_data"
    }
   ],
   "source": [
    "sols = solve(phi,sbi)\n",
    "for sol in sols:\n",
    "    display(simplify(sol))"
   ]
  },
  {
   "cell_type": "markdown",
   "metadata": {},
   "source": [
    "The second root being negative whereas $s_B \\geq 0$, this allows us to find a positivity criterion by comparing $s_B$ to the first root."
   ]
  },
  {
   "cell_type": "markdown",
   "metadata": {},
   "source": [
    "##### Analyzing $\\psi_B$"
   ]
  },
  {
   "cell_type": "code",
   "execution_count": 10,
   "metadata": {},
   "outputs": [
    {
     "data": {
      "text/latex": [
       "$\\displaystyle \\kappa^{2} \\tilde{b}^{2} m^{2} + \\kappa^{2} \\tilde{b}^{2} - 2 \\kappa^{2} \\tilde{b} b_{v} m^{2} F_{B}{\\left(s_{B} \\right)} - 2 \\kappa^{2} \\tilde{b} b_{v} F_{B}{\\left(s_{B} \\right)} + \\kappa^{2} b_{v}^{2} m^{2} F_{B}^{2}{\\left(s_{B} \\right)} + \\kappa^{2} b_{v}^{2} F_{B}^{2}{\\left(s_{B} \\right)} - 2 \\kappa \\tilde{b}^{2} m^{2} - 2 \\kappa \\tilde{b}^{2} - 2 \\kappa \\tilde{b} b_{0} m^{2} - 2 \\kappa \\tilde{b} b_{0} + 2 \\kappa \\tilde{b} b_{v} m^{2} F_{B}{\\left(s_{B} \\right)} + 2 \\kappa \\tilde{b} b_{v} F_{B}{\\left(s_{B} \\right)} + 2 \\kappa b_{0} b_{v} m^{2} F_{B}{\\left(s_{B} \\right)} + 2 \\kappa b_{0} b_{v} F_{B}{\\left(s_{B} \\right)} + \\tilde{b}^{2} m^{2} + \\tilde{b}^{2} + 2 \\tilde{b} b_{0} m^{2} + 2 \\tilde{b} b_{0} + a^{2} \\left(m^{2} + 1\\right) + a \\left(2 \\kappa \\tilde{b} m^{2} - 2 \\kappa \\tilde{b} - 2 \\kappa b_{v} m^{2} F_{B}{\\left(s_{B} \\right)} + 2 \\kappa b_{v} F_{B}{\\left(s_{B} \\right)} - 2 \\tilde{b} m^{2} + 2 \\tilde{b} - 2 b_{0} m^{2} + 2 b_{0}\\right) + b_{0}^{2} m^{2} + b_{0}^{2}$"
      ],
      "text/plain": [
       "\\kappa**2*\\tilde{b}**2*m**2 + \\kappa**2*\\tilde{b}**2 - 2*\\kappa**2*\\tilde{b}*b_v*m**2*F_B(s_B) - 2*\\kappa**2*\\tilde{b}*b_v*F_B(s_B) + \\kappa**2*b_v**2*m**2*F_B(s_B)**2 + \\kappa**2*b_v**2*F_B(s_B)**2 - 2*\\kappa*\\tilde{b}**2*m**2 - 2*\\kappa*\\tilde{b}**2 - 2*\\kappa*\\tilde{b}*b_0*m**2 - 2*\\kappa*\\tilde{b}*b_0 + 2*\\kappa*\\tilde{b}*b_v*m**2*F_B(s_B) + 2*\\kappa*\\tilde{b}*b_v*F_B(s_B) + 2*\\kappa*b_0*b_v*m**2*F_B(s_B) + 2*\\kappa*b_0*b_v*F_B(s_B) + \\tilde{b}**2*m**2 + \\tilde{b}**2 + 2*\\tilde{b}*b_0*m**2 + 2*\\tilde{b}*b_0 + a**2*(m**2 + 1) + a*(2*\\kappa*\\tilde{b}*m**2 - 2*\\kappa*\\tilde{b} - 2*\\kappa*b_v*m**2*F_B(s_B) + 2*\\kappa*b_v*F_B(s_B) - 2*\\tilde{b}*m**2 + 2*\\tilde{b} - 2*b_0*m**2 + 2*b_0) + b_0**2*m**2 + b_0**2"
      ]
     },
     "metadata": {},
     "output_type": "display_data"
    }
   ],
   "source": [
    "psi = Tkap**2 + m**2 * Mkap **2\n",
    "display(collect(expand(psi),[a**2,a]))"
   ]
  },
  {
   "cell_type": "markdown",
   "metadata": {},
   "source": [
    "The leading coefficient in $a$ being positive, we can minimize easily in $a$. We plug the result into $\\psi_B$."
   ]
  },
  {
   "cell_type": "code",
   "execution_count": 11,
   "metadata": {},
   "outputs": [
    {
     "data": {
      "text/latex": [
       "$\\displaystyle \\frac{4 \\kappa^{2} b_{v}^{2} m^{2} F_{B}^{2}{\\left(s_{B} \\right)}}{m^{2} + 1} + \\frac{8 \\kappa b_{0} b_{v} m^{2} F_{B}{\\left(s_{B} \\right)}}{m^{2} + 1} + \\tilde{b}^{2} \\cdot \\left(\\frac{4 \\kappa^{2} m^{2}}{m^{2} + 1} - \\frac{8 \\kappa m^{2}}{m^{2} + 1} + \\frac{4 m^{2}}{m^{2} + 1}\\right) + \\tilde{b} \\left(- \\frac{8 \\kappa^{2} b_{v} m^{2} F_{B}{\\left(s_{B} \\right)}}{m^{2} + 1} - \\frac{8 \\kappa b_{0} m^{2}}{m^{2} + 1} + \\frac{8 \\kappa b_{v} m^{2} F_{B}{\\left(s_{B} \\right)}}{m^{2} + 1} + \\frac{8 b_{0} m^{2}}{m^{2} + 1}\\right) + \\frac{4 b_{0}^{2} m^{2}}{m^{2} + 1}$"
      ],
      "text/plain": [
       "4*\\kappa**2*b_v**2*m**2*F_B(s_B)**2/(m**2 + 1) + 8*\\kappa*b_0*b_v*m**2*F_B(s_B)/(m**2 + 1) + \\tilde{b}**2*(4*\\kappa**2*m**2/(m**2 + 1) - 8*\\kappa*m**2/(m**2 + 1) + 4*m**2/(m**2 + 1)) + \\tilde{b}*(-8*\\kappa**2*b_v*m**2*F_B(s_B)/(m**2 + 1) - 8*\\kappa*b_0*m**2/(m**2 + 1) + 8*\\kappa*b_v*m**2*F_B(s_B)/(m**2 + 1) + 8*b_0*m**2/(m**2 + 1)) + 4*b_0**2*m**2/(m**2 + 1)"
      ]
     },
     "metadata": {},
     "output_type": "display_data"
    }
   ],
   "source": [
    "asol = solve(psi.diff(a),a)[0]\n",
    "psi = simplify(psi.subs(a,asol))\n",
    "display(collect(expand(psi),[b**2,b]))"
   ]
  },
  {
   "cell_type": "markdown",
   "metadata": {},
   "source": [
    "This expression as a polynomial in $\\tilde{b}$ has a positive leading coefficient for $\\tilde{\\kappa}\\neq 1$, and is otherwise constant in $\\tilde{b}$. For $\\tilde{\\kappa}\\neq 1$, we minimize over $\\tilde{b}$."
   ]
  },
  {
   "cell_type": "code",
   "execution_count": 12,
   "metadata": {},
   "outputs": [
    {
     "data": {
      "text/latex": [
       "$\\displaystyle \\frac{\\kappa b_{v} F_{B}{\\left(s_{B} \\right)} + b_{0}}{\\kappa - 1}$"
      ],
      "text/plain": [
       "(\\kappa*b_v*F_B(s_B) + b_0)/(\\kappa - 1)"
      ]
     },
     "metadata": {},
     "output_type": "display_data"
    }
   ],
   "source": [
    "bsol = solve(psi.diff(b),b)[0]\n",
    "display(bsol)"
   ]
  },
  {
   "cell_type": "markdown",
   "metadata": {},
   "source": [
    "This solution being negative for $\\tilde{\\kappa}\\neq 1$ and the aforementioned expression being constant in $\\tilde{b}$ for $\\tilde{\\kappa} = 1$, we may plug in $\\tilde{b} = 0$ as our lowest possible $\\tilde{b}$."
   ]
  },
  {
   "cell_type": "code",
   "execution_count": 13,
   "metadata": {},
   "outputs": [
    {
     "data": {
      "text/latex": [
       "$\\displaystyle \\frac{4 \\kappa^{2} b_{v}^{2} m^{2} F_{B}^{2}{\\left(s_{B} \\right)}}{m^{2} + 1} + \\frac{8 \\kappa b_{0} b_{v} m^{2} F_{B}{\\left(s_{B} \\right)}}{m^{2} + 1} + \\frac{4 b_{0}^{2} m^{2}}{m^{2} + 1}$"
      ],
      "text/plain": [
       "4*\\kappa**2*b_v**2*m**2*F_B(s_B)**2/(m**2 + 1) + 8*\\kappa*b_0*b_v*m**2*F_B(s_B)/(m**2 + 1) + 4*b_0**2*m**2/(m**2 + 1)"
      ]
     },
     "metadata": {},
     "output_type": "display_data"
    }
   ],
   "source": [
    "psi = simplify(psi.subs(b,0))\n",
    "display(collect(expand(psi),[b0**2,b0]))"
   ]
  },
  {
   "cell_type": "markdown",
   "metadata": {},
   "source": [
    "We minimize this expression over $b_0$, which is straightforward due to the positive leading coefficient."
   ]
  },
  {
   "cell_type": "code",
   "execution_count": 14,
   "metadata": {},
   "outputs": [
    {
     "data": {
      "text/latex": [
       "$\\displaystyle - \\kappa b_{v} F_{B}{\\left(s_{B} \\right)}$"
      ],
      "text/plain": [
       "-\\kappa*b_v*F_B(s_B)"
      ]
     },
     "metadata": {},
     "output_type": "display_data"
    }
   ],
   "source": [
    "b0sol= solve(psi.diff(b0),b0)[0]\n",
    "display(b0sol)"
   ]
  },
  {
   "cell_type": "markdown",
   "metadata": {},
   "source": [
    "This expression being negative, we may substitute $b_0 = 0$. Moreover, recall that we assumed $s_B = \\bar{s}_B$, so that $F_B(s_B) = 1$, yielding the minimal $\\psi_B$ for $s_B = \\bar{s}_B$."
   ]
  },
  {
   "cell_type": "code",
   "execution_count": 15,
   "metadata": {},
   "outputs": [
    {
     "data": {
      "text/latex": [
       "$\\displaystyle \\frac{4 \\kappa^{2} b_{v}^{2} m^{2}}{m^{2} + 1}$"
      ],
      "text/plain": [
       "4*\\kappa**2*b_v**2*m**2/(m**2 + 1)"
      ]
     },
     "metadata": {},
     "output_type": "display_data"
    }
   ],
   "source": [
    "psi = psi.subs(b0,0)\n",
    "psi = psi.subs(FB,1)\n",
    "display(psi)"
   ]
  }
 ],
 "metadata": {
  "kernelspec": {
   "display_name": "311env",
   "language": "python",
   "name": "python3"
  },
  "language_info": {
   "codemirror_mode": {
    "name": "ipython",
    "version": 3
   },
   "file_extension": ".py",
   "mimetype": "text/x-python",
   "name": "python",
   "nbconvert_exporter": "python",
   "pygments_lexer": "ipython3",
   "version": "3.11.8"
  }
 },
 "nbformat": 4,
 "nbformat_minor": 2
}
