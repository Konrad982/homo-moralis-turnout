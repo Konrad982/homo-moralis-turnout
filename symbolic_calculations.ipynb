{
 "cells": [
  {
   "cell_type": "markdown",
   "metadata": {},
   "source": [
    "# Symbolic calculations\n",
    "This notebook contains all the symbolic calculations (using `SymPy`) that are needed to find the polynomial coefficients in both the ex-ante and the ex-post case in order to find candidate equilibria and candidate deviations.\n",
    "\n",
    "We start by importing SymPy and defining a function that prints the polynomial coefficients as ready-to-use python assignments."
   ]
  },
  {
   "cell_type": "code",
   "execution_count": 1,
   "metadata": {},
   "outputs": [],
   "source": [
    "from sympy import *\n",
    "\n",
    "def print_coeffs(polynomial):\n",
    "    coeffs = polynomial.all_coeffs()\n",
    "    for i in range(0,len(coeffs)):\n",
    "        print(\"coeffs[\" + str(i) + \"] = \" + str(coeffs[i]).replace(\"atan(m)\",\"np.arctan(m)\"))"
   ]
  },
  {
   "cell_type": "markdown",
   "metadata": {},
   "source": [
    "We define all the required SymPy symbols."
   ]
  },
  {
   "cell_type": "code",
   "execution_count": 2,
   "id": "ac4cd726-11ac-4276-aadc-f5df4191cfc8",
   "metadata": {},
   "outputs": [],
   "source": [
    "a0,a,b,rho,lam,kap,thea,theb,the,bv,av,b0,m,bkap,akap,ai,bi = symbols(\"a0 a b rho lam kap thea theb the bv av b0 m b^kappa a^\\kappa ai bi\",positive=True)"
   ]
  },
  {
   "cell_type": "markdown",
   "metadata": {},
   "source": [
    "## Ex-ante case\n",
    "### Equilibrium candidates for group A"
   ]
  },
  {
   "cell_type": "code",
   "execution_count": 3,
   "id": "74fc7243",
   "metadata": {},
   "outputs": [
    {
     "name": "stdout",
     "output_type": "stream",
     "text": [
      "coeffs[0] = m**2 + 1\n",
      "coeffs[1] = -a0*m**2 - a0 - 2*b0*m**2 + 2*b0\n",
      "coeffs[2] = 2*a0*b0*m**2 - 2*a0*b0 + b0**2*m**2 + b0**2\n",
      "coeffs[3] = -a0*b0**2*m**2 - a0*b0**2 - 2*av**2*b0*kap*m/(the*np.arctan(m)) + 2*av*b0*bv*kap*m*rho/(the*np.arctan(m))\n"
     ]
    }
   ],
   "source": [
    "f1 = (1+m**2) * a**2 + (1+m**2) * b0**2 + (2- 2 * m**2) *a *b0\n",
    "f2 = a-a0\n",
    "sub = 2 * (av-rho*bv) *m * kap * b0 * av /(the*atan(m))\n",
    "\n",
    "polynomial = Poly(collect(expand(f1*f2-sub),a),a)\n",
    "print_coeffs(polynomial)"
   ]
  },
  {
   "cell_type": "markdown",
   "metadata": {},
   "source": [
    "### Deviation candidates for group A"
   ]
  },
  {
   "cell_type": "code",
   "execution_count": 4,
   "id": "4cbf19d5",
   "metadata": {},
   "outputs": [
    {
     "name": "stdout",
     "output_type": "stream",
     "text": [
      "coeffs[0] = kap**2*m**2 + kap**2\n",
      "coeffs[1] = -2*a*kap**2*m**2 - 2*a*kap**2 + 2*a*kap*m**2 + 2*a*kap - a0*kap**2*m**2 - a0*kap**2 - 2*b0*kap*m**2 + 2*b0*kap\n",
      "coeffs[2] = a**2*kap**2*m**2 + a**2*kap**2 - 2*a**2*kap*m**2 - 2*a**2*kap + a**2*m**2 + a**2 + 2*a*a0*kap**2*m**2 + 2*a*a0*kap**2 - 2*a*a0*kap*m**2 - 2*a*a0*kap + 2*a*b0*kap*m**2 - 2*a*b0*kap - 2*a*b0*m**2 + 2*a*b0 + 2*a0*b0*kap*m**2 - 2*a0*b0*kap + b0**2*m**2 + b0**2\n",
      "coeffs[3] = -a**2*a0*kap**2*m**2 - a**2*a0*kap**2 + 2*a**2*a0*kap*m**2 + 2*a**2*a0*kap - a**2*a0*m**2 - a**2*a0 - 2*a*a0*b0*kap*m**2 + 2*a*a0*b0*kap + 2*a*a0*b0*m**2 - 2*a*a0*b0 - a0*b0**2*m**2 - a0*b0**2 - 2*av**2*b0*kap*m/(the*np.arctan(m)) + 2*av*b0*bv*kap*m*rho/(the*np.arctan(m))\n"
     ]
    }
   ],
   "source": [
    "f1 = (1+m**2) * akap**2 + (1+m**2) * b0**2 + (2- 2 * m**2) *akap *b0\n",
    "f2 = ai-a0\n",
    "sub = 2 * (av-rho*bv) *m * kap * b0 * av /(the*atan(m))\n",
    "\n",
    "polynomial = Poly(collect(expand(f1.subs(akap,kap*ai+(1-kap)*a)*f2-sub),ai),ai)\n",
    "print_coeffs(polynomial)"
   ]
  },
  {
   "cell_type": "markdown",
   "metadata": {},
   "source": [
    "### Equilibrium candidates for group B"
   ]
  },
  {
   "cell_type": "code",
   "execution_count": 5,
   "metadata": {},
   "outputs": [
    {
     "name": "stdout",
     "output_type": "stream",
     "text": [
      "coeffs[0] = m**2 + 1\n",
      "coeffs[1] = -2*a0*m**2 + 2*a0 - b0*m**2 - b0\n",
      "coeffs[2] = a0**2*m**2 + a0**2 + 2*a0*b0*m**2 - 2*a0*b0\n",
      "coeffs[3] = -a0**2*b0*m**2 - a0**2*b0 + 2*a0*av*bv*kap*m/(the*np.arctan(m)) - 2*a0*bv**2*kap*m*rho/(the*np.arctan(m))\n"
     ]
    }
   ],
   "source": [
    "f1 = (1+m**2) * b**2 + (1+m**2) * a0**2 + (2- 2 * m**2) *a0 *b\n",
    "f2 = b-b0\n",
    "sub = 2 * (rho*bv-av) *m * kap * a0 * bv /(the*atan(m))\n",
    "\n",
    "polynomial = Poly(collect(expand(f1*f2-sub),b),b)\n",
    "print_coeffs(polynomial)"
   ]
  },
  {
   "cell_type": "markdown",
   "metadata": {},
   "source": [
    "### Deviation candidates for group B"
   ]
  },
  {
   "cell_type": "code",
   "execution_count": 6,
   "metadata": {},
   "outputs": [
    {
     "name": "stdout",
     "output_type": "stream",
     "text": [
      "coeffs[0] = kap**2*m**2 + kap**2\n",
      "coeffs[1] = -2*a0*kap*m**2 + 2*a0*kap - 2*b*kap**2*m**2 - 2*b*kap**2 + 2*b*kap*m**2 + 2*b*kap - b0*kap**2*m**2 - b0*kap**2\n",
      "coeffs[2] = a0**2*m**2 + a0**2 + 2*a0*b*kap*m**2 - 2*a0*b*kap - 2*a0*b*m**2 + 2*a0*b + 2*a0*b0*kap*m**2 - 2*a0*b0*kap + b**2*kap**2*m**2 + b**2*kap**2 - 2*b**2*kap*m**2 - 2*b**2*kap + b**2*m**2 + b**2 + 2*b*b0*kap**2*m**2 + 2*b*b0*kap**2 - 2*b*b0*kap*m**2 - 2*b*b0*kap\n",
      "coeffs[3] = -a0**2*b0*m**2 - a0**2*b0 + 2*a0*av*bv*kap*m/(the*np.arctan(m)) - 2*a0*b*b0*kap*m**2 + 2*a0*b*b0*kap + 2*a0*b*b0*m**2 - 2*a0*b*b0 - 2*a0*bv**2*kap*m*rho/(the*np.arctan(m)) - b**2*b0*kap**2*m**2 - b**2*b0*kap**2 + 2*b**2*b0*kap*m**2 + 2*b**2*b0*kap - b**2*b0*m**2 - b**2*b0\n"
     ]
    }
   ],
   "source": [
    "f1 = (1+m**2) * bkap**2 + (1+m**2) * a0**2 + (2- 2 * m**2) *bkap *a0\n",
    "f2 = bi-b0\n",
    "sub = 2 * (rho*bv-av) *m * kap * a0 * bv /(the*atan(m))\n",
    "\n",
    "polynomial = Poly(collect(expand(f1.subs(bkap,kap*bi+(1-kap)*b)*f2-sub),bi),bi)\n",
    "print_coeffs(polynomial)"
   ]
  },
  {
   "cell_type": "markdown",
   "metadata": {},
   "source": [
    "## Ex-post case\n",
    "### Best-response candidates for A"
   ]
  },
  {
   "cell_type": "code",
   "execution_count": 7,
   "metadata": {},
   "outputs": [
    {
     "name": "stdout",
     "output_type": "stream",
     "text": [
      "coeffs[0] = m**2 + 1\n",
      "coeffs[1] = -a0*m**2 - a0 - 2*b*m**2 + 2*b\n",
      "coeffs[2] = 2*a0*b*m**2 - 2*a0*b + b**2*m**2 + b**2\n",
      "coeffs[3] = -a0*b**2*m**2 - a0*b**2 - 2*av**2*b*kap*m/(thea*np.arctan(m))\n"
     ]
    }
   ],
   "source": [
    "f1 = (1+m**2) * b**2 + (1+m**2) * a**2 + (2- 2 * m**2) *b *a\n",
    "f2 = a-a0\n",
    "sub = 2*kap*m*b*av**2 / (atan(m) *thea)\n",
    "polynomial = Poly(collect(expand(f1*f2-sub),a),a)\n",
    "print_coeffs(polynomial)"
   ]
  },
  {
   "cell_type": "markdown",
   "id": "8f3cea28",
   "metadata": {},
   "source": [
    "### Deviation candidates for A"
   ]
  },
  {
   "cell_type": "code",
   "execution_count": 8,
   "id": "eeeb6e64",
   "metadata": {},
   "outputs": [
    {
     "name": "stdout",
     "output_type": "stream",
     "text": [
      "coeffs[0] = kap**2*m**2 + kap**2\n",
      "coeffs[1] = -2*a*kap**2*m**2 - 2*a*kap**2 + 2*a*kap*m**2 + 2*a*kap - a0*kap**2*m**2 - a0*kap**2 - 2*b*kap*m**2 + 2*b*kap\n",
      "coeffs[2] = a**2*kap**2*m**2 + a**2*kap**2 - 2*a**2*kap*m**2 - 2*a**2*kap + a**2*m**2 + a**2 + 2*a*a0*kap**2*m**2 + 2*a*a0*kap**2 - 2*a*a0*kap*m**2 - 2*a*a0*kap + 2*a*b*kap*m**2 - 2*a*b*kap - 2*a*b*m**2 + 2*a*b + 2*a0*b*kap*m**2 - 2*a0*b*kap + b**2*m**2 + b**2\n",
      "coeffs[3] = -a**2*a0*kap**2*m**2 - a**2*a0*kap**2 + 2*a**2*a0*kap*m**2 + 2*a**2*a0*kap - a**2*a0*m**2 - a**2*a0 - 2*a*a0*b*kap*m**2 + 2*a*a0*b*kap + 2*a*a0*b*m**2 - 2*a*a0*b - a0*b**2*m**2 - a0*b**2 - 2*av**2*b*kap*m/(thea*np.arctan(m))\n"
     ]
    }
   ],
   "source": [
    "f1 = (1+m**2) * b**2 + (1+m**2) * akap**2 + (2- 2 * m**2) *b *akap\n",
    "f2 = ai-a0\n",
    "sub = 2 * kap * m * b * av**2 / (atan(m) *thea)\n",
    "polynomial = Poly(collect(expand(f1.subs(akap,kap*ai+(1-kap)*a)*f2-sub),ai),ai)\n",
    "print_coeffs(polynomial)"
   ]
  },
  {
   "cell_type": "markdown",
   "id": "d11a6544",
   "metadata": {},
   "source": [
    "### Best-response candidates for B"
   ]
  },
  {
   "cell_type": "code",
   "execution_count": 9,
   "id": "a0f4d8f7",
   "metadata": {},
   "outputs": [
    {
     "name": "stdout",
     "output_type": "stream",
     "text": [
      "coeffs[0] = m**2 + 1\n",
      "coeffs[1] = -2*a*m**2 + 2*a - b0*m**2 - b0\n",
      "coeffs[2] = a**2*m**2 + a**2 + 2*a*b0*m**2 - 2*a*b0\n",
      "coeffs[3] = -a**2*b0*m**2 - a**2*b0 - 2*a*bv**2*kap*m/(theb*np.arctan(m))\n"
     ]
    }
   ],
   "source": [
    "f1 = (1+m**2) * b**2 + (1+m**2) * a**2 + (2- 2 * m**2) *b *a\n",
    "f2 = b-b0\n",
    "sub = 2 * kap * m * a * bv**2 / (atan(m) *theb)\n",
    "polynomial = Poly(collect(expand(f1*f2-sub),b),b)\n",
    "print_coeffs(polynomial)"
   ]
  },
  {
   "cell_type": "markdown",
   "id": "77738b86",
   "metadata": {},
   "source": [
    "### Deviation candidates for B"
   ]
  },
  {
   "cell_type": "code",
   "execution_count": 10,
   "id": "6a297426",
   "metadata": {},
   "outputs": [
    {
     "name": "stdout",
     "output_type": "stream",
     "text": [
      "coeffs[0] = kap**2*m**2 + kap**2\n",
      "coeffs[1] = -2*a*kap*m**2 + 2*a*kap - 2*b*kap**2*m**2 - 2*b*kap**2 + 2*b*kap*m**2 + 2*b*kap - b0*kap**2*m**2 - b0*kap**2\n",
      "coeffs[2] = a**2*m**2 + a**2 + 2*a*b*kap*m**2 - 2*a*b*kap - 2*a*b*m**2 + 2*a*b + 2*a*b0*kap*m**2 - 2*a*b0*kap + b**2*kap**2*m**2 + b**2*kap**2 - 2*b**2*kap*m**2 - 2*b**2*kap + b**2*m**2 + b**2 + 2*b*b0*kap**2*m**2 + 2*b*b0*kap**2 - 2*b*b0*kap*m**2 - 2*b*b0*kap\n",
      "coeffs[3] = -a**2*b0*m**2 - a**2*b0 - 2*a*b*b0*kap*m**2 + 2*a*b*b0*kap + 2*a*b*b0*m**2 - 2*a*b*b0 - 2*a*bv**2*kap*m/(theb*np.arctan(m)) - b**2*b0*kap**2*m**2 - b**2*b0*kap**2 + 2*b**2*b0*kap*m**2 + 2*b**2*b0*kap - b**2*b0*m**2 - b**2*b0\n"
     ]
    }
   ],
   "source": [
    "f1 = (1+m**2) * a**2 + (1+m**2) * bkap**2 + (2- 2 * m**2) *a *bkap\n",
    "f2 = bi-b0\n",
    "sub = 2 * kap * m * a * bv**2 / (atan(m) *theb)\n",
    "polynomial = Poly(collect(expand(f1.subs(bkap,kap*bi+(1-kap)*b)*f2-sub),bi),bi)\n",
    "print_coeffs(polynomial)"
   ]
  },
  {
   "cell_type": "markdown",
   "id": "fbb1f788",
   "metadata": {},
   "source": [
    "### Resultant for equilibrium candidates\n",
    "\n",
    "In the ex-post case, the first-order condition for equilibrium candidates is a system of two polynomials in $a$ and $b$. In order to find solutions, we use the resultant method. It yields a degree $5$ polynomial in $b$ without a constant term (so one can obtain a degree $4$ polynomial by dividing by $b$). After determining the solutions to this polynomial, one can find the associated values for $a$."
   ]
  },
  {
   "cell_type": "code",
   "execution_count": 11,
   "id": "1ea06169",
   "metadata": {},
   "outputs": [
    {
     "name": "stdout",
     "output_type": "stream",
     "text": [
      "coeffs[0] = 4*av**4*kap**2*m**8/(thea**2*np.arctan(m)**2) + 12*av**4*kap**2*m**6/(thea**2*np.arctan(m)**2) + 12*av**4*kap**2*m**4/(thea**2*np.arctan(m)**2) + 4*av**4*kap**2*m**2/(thea**2*np.arctan(m)**2) - 8*av**2*bv**2*kap**2*m**8/(thea*theb*np.arctan(m)**2) + 40*av**2*bv**2*kap**2*m**6/(thea*theb*np.arctan(m)**2) + 40*av**2*bv**2*kap**2*m**4/(thea*theb*np.arctan(m)**2) - 8*av**2*bv**2*kap**2*m**2/(thea*theb*np.arctan(m)**2) + 4*bv**4*kap**2*m**8/(theb**2*np.arctan(m)**2) + 12*bv**4*kap**2*m**6/(theb**2*np.arctan(m)**2) + 12*bv**4*kap**2*m**4/(theb**2*np.arctan(m)**2) + 4*bv**4*kap**2*m**2/(theb**2*np.arctan(m)**2)\n",
      "coeffs[1] = 8*a0*av**2*bv**2*kap**2*m**8/(thea*theb*np.arctan(m)**2) + 8*a0*av**2*bv**2*kap**2*m**6/(thea*theb*np.arctan(m)**2) - 8*a0*av**2*bv**2*kap**2*m**4/(thea*theb*np.arctan(m)**2) - 8*a0*av**2*bv**2*kap**2*m**2/(thea*theb*np.arctan(m)**2) - 8*a0*bv**4*kap**2*m**8/(theb**2*np.arctan(m)**2) - 8*a0*bv**4*kap**2*m**6/(theb**2*np.arctan(m)**2) + 8*a0*bv**4*kap**2*m**4/(theb**2*np.arctan(m)**2) + 8*a0*bv**4*kap**2*m**2/(theb**2*np.arctan(m)**2) - 12*av**4*b0*kap**2*m**8/(thea**2*np.arctan(m)**2) - 36*av**4*b0*kap**2*m**6/(thea**2*np.arctan(m)**2) - 36*av**4*b0*kap**2*m**4/(thea**2*np.arctan(m)**2) - 12*av**4*b0*kap**2*m**2/(thea**2*np.arctan(m)**2) + 16*av**2*b0*bv**2*kap**2*m**8/(thea*theb*np.arctan(m)**2) - 80*av**2*b0*bv**2*kap**2*m**6/(thea*theb*np.arctan(m)**2) - 80*av**2*b0*bv**2*kap**2*m**4/(thea*theb*np.arctan(m)**2) + 16*av**2*b0*bv**2*kap**2*m**2/(thea*theb*np.arctan(m)**2) - 4*b0*bv**4*kap**2*m**8/(theb**2*np.arctan(m)**2) - 12*b0*bv**4*kap**2*m**6/(theb**2*np.arctan(m)**2) - 12*b0*bv**4*kap**2*m**4/(theb**2*np.arctan(m)**2) - 4*b0*bv**4*kap**2*m**2/(theb**2*np.arctan(m)**2)\n",
      "coeffs[2] = 4*a0**2*bv**4*kap**2*m**8/(theb**2*np.arctan(m)**2) + 12*a0**2*bv**4*kap**2*m**6/(theb**2*np.arctan(m)**2) + 12*a0**2*bv**4*kap**2*m**4/(theb**2*np.arctan(m)**2) + 4*a0**2*bv**4*kap**2*m**2/(theb**2*np.arctan(m)**2) - 16*a0*av**2*b0*bv**2*kap**2*m**8/(thea*theb*np.arctan(m)**2) - 16*a0*av**2*b0*bv**2*kap**2*m**6/(thea*theb*np.arctan(m)**2) + 16*a0*av**2*b0*bv**2*kap**2*m**4/(thea*theb*np.arctan(m)**2) + 16*a0*av**2*b0*bv**2*kap**2*m**2/(thea*theb*np.arctan(m)**2) + 8*a0*b0*bv**4*kap**2*m**8/(theb**2*np.arctan(m)**2) + 8*a0*b0*bv**4*kap**2*m**6/(theb**2*np.arctan(m)**2) - 8*a0*b0*bv**4*kap**2*m**4/(theb**2*np.arctan(m)**2) - 8*a0*b0*bv**4*kap**2*m**2/(theb**2*np.arctan(m)**2) + 12*av**4*b0**2*kap**2*m**8/(thea**2*np.arctan(m)**2) + 36*av**4*b0**2*kap**2*m**6/(thea**2*np.arctan(m)**2) + 36*av**4*b0**2*kap**2*m**4/(thea**2*np.arctan(m)**2) + 12*av**4*b0**2*kap**2*m**2/(thea**2*np.arctan(m)**2) - 8*av**2*b0**2*bv**2*kap**2*m**8/(thea*theb*np.arctan(m)**2) + 40*av**2*b0**2*bv**2*kap**2*m**6/(thea*theb*np.arctan(m)**2) + 40*av**2*b0**2*bv**2*kap**2*m**4/(thea*theb*np.arctan(m)**2) - 8*av**2*b0**2*bv**2*kap**2*m**2/(thea*theb*np.arctan(m)**2) - 32*av**2*bv**4*kap**3*m**7/(thea*theb**2*np.arctan(m)**3) + 32*av**2*bv**4*kap**3*m**3/(thea*theb**2*np.arctan(m)**3)\n",
      "coeffs[3] = -4*a0**2*b0*bv**4*kap**2*m**8/(theb**2*np.arctan(m)**2) - 12*a0**2*b0*bv**4*kap**2*m**6/(theb**2*np.arctan(m)**2) - 12*a0**2*b0*bv**4*kap**2*m**4/(theb**2*np.arctan(m)**2) - 4*a0**2*b0*bv**4*kap**2*m**2/(theb**2*np.arctan(m)**2) + 8*a0*av**2*b0**2*bv**2*kap**2*m**8/(thea*theb*np.arctan(m)**2) + 8*a0*av**2*b0**2*bv**2*kap**2*m**6/(thea*theb*np.arctan(m)**2) - 8*a0*av**2*b0**2*bv**2*kap**2*m**4/(thea*theb*np.arctan(m)**2) - 8*a0*av**2*b0**2*bv**2*kap**2*m**2/(thea*theb*np.arctan(m)**2) + 8*a0*av**2*bv**4*kap**3*m**7/(thea*theb**2*np.arctan(m)**3) + 16*a0*av**2*bv**4*kap**3*m**5/(thea*theb**2*np.arctan(m)**3) + 8*a0*av**2*bv**4*kap**3*m**3/(thea*theb**2*np.arctan(m)**3) - 8*a0*bv**6*kap**3*m**7/(theb**3*np.arctan(m)**3) - 16*a0*bv**6*kap**3*m**5/(theb**3*np.arctan(m)**3) - 8*a0*bv**6*kap**3*m**3/(theb**3*np.arctan(m)**3) - 4*av**4*b0**3*kap**2*m**8/(thea**2*np.arctan(m)**2) - 12*av**4*b0**3*kap**2*m**6/(thea**2*np.arctan(m)**2) - 12*av**4*b0**3*kap**2*m**4/(thea**2*np.arctan(m)**2) - 4*av**4*b0**3*kap**2*m**2/(thea**2*np.arctan(m)**2) + 32*av**2*b0*bv**4*kap**3*m**7/(thea*theb**2*np.arctan(m)**3) - 32*av**2*b0*bv**4*kap**3*m**3/(thea*theb**2*np.arctan(m)**3)\n",
      "coeffs[4] = -8*a0*av**2*b0*bv**4*kap**3*m**7/(thea*theb**2*np.arctan(m)**3) - 16*a0*av**2*b0*bv**4*kap**3*m**5/(thea*theb**2*np.arctan(m)**3) - 8*a0*av**2*b0*bv**4*kap**3*m**3/(thea*theb**2*np.arctan(m)**3) - 16*av**2*bv**6*kap**4*m**6/(thea*theb**3*np.arctan(m)**4) - 16*av**2*bv**6*kap**4*m**4/(thea*theb**3*np.arctan(m)**4)\n"
     ]
    }
   ],
   "source": [
    "f1 = (1+m**2) * b**2 + (1+m**2) * a**2 + (2- 2 * m**2) *b *a\n",
    "f2a = a-a0\n",
    "f3a = 2 * kap * m * b * av**2 / (atan(m) * thea)\n",
    "\n",
    "f2b = b-b0\n",
    "f3b = 2 * kap * m * a * bv**2 / (atan(m) *theb)\n",
    "\n",
    "poly1 = Poly(expand(f1*f2a-f3a),(a,b))\n",
    "poly2 = Poly(expand(f1*f2b-f3b),(a,b))\n",
    "\n",
    "resu_poly = Poly(collect(resultant(poly1,poly2,a)/ b,b),b) \n",
    "print_coeffs(resu_poly)"
   ]
  },
  {
   "cell_type": "markdown",
   "id": "34fb9091",
   "metadata": {},
   "source": [
    "## Ex-post case, more general cost function\n",
    "Here, we find expressions for the leading coefficients of the polynomials that describe deviation candidates in the setting similar to Herrera, Morelli, and Nunnari (2008)."
   ]
  },
  {
   "cell_type": "markdown",
   "id": "452d79d4",
   "metadata": {},
   "source": [
    "### for A, candidates\n",
    "The first coefficient corresponds to $\\tilde{a}^{k+2}$. In the following code, `a` stands for $\\tilde{a}$."
   ]
  },
  {
   "cell_type": "code",
   "execution_count": 12,
   "id": "9957e358",
   "metadata": {},
   "outputs": [
    {
     "name": "stdout",
     "output_type": "stream",
     "text": [
      "coeffs[0] = m**2 + 1\n",
      "coeffs[1] = 2*a0*m**2 + 2*a0 - 2*b*m**2 + 2*b\n",
      "coeffs[2] = a0**2*m**2 + a0**2 - 2*a0*b*m**2 + 2*a0*b + b**2*m**2 + b**2\n"
     ]
    }
   ],
   "source": [
    "expression = (1+m**2) * (a+a0)**2 + (1+ m**2) *b**2 + (2- 2*m**2)*(a+a0)*b\n",
    "polynomial = Poly(collect(expand(expression),a),a)\n",
    "print_coeffs(polynomial)"
   ]
  },
  {
   "cell_type": "markdown",
   "id": "366e6373",
   "metadata": {},
   "source": [
    "### for A, in terms of $a^i$\n",
    "The first coefficient corresponds to $(\\tilde{a}^i)^{k+2}$. `a` stands for $a$, but `ai` stands for $\\tilde{a}^i$."
   ]
  },
  {
   "cell_type": "code",
   "execution_count": 13,
   "id": "87cdfec7",
   "metadata": {},
   "outputs": [
    {
     "name": "stdout",
     "output_type": "stream",
     "text": [
      "coeffs[0] = kap**2*m**2 + kap**2\n",
      "coeffs[1] = -2*a*kap**2*m**2 - 2*a*kap**2 + 2*a*kap*m**2 + 2*a*kap + 2*a0*kap**2*m**2 + 2*a0*kap**2 - 2*b*kap*m**2 + 2*b*kap\n",
      "coeffs[2] = a**2*kap**2*m**2 + a**2*kap**2 - 2*a**2*kap*m**2 - 2*a**2*kap + a**2*m**2 + a**2 - 2*a*a0*kap**2*m**2 - 2*a*a0*kap**2 + 2*a*a0*kap*m**2 + 2*a*a0*kap + 2*a*b*kap*m**2 - 2*a*b*kap - 2*a*b*m**2 + 2*a*b + a0**2*kap**2*m**2 + a0**2*kap**2 - 2*a0*b*kap*m**2 + 2*a0*b*kap + b**2*m**2 + b**2\n"
     ]
    }
   ],
   "source": [
    "expression = (1+m**2) * akap**2 + (1+m**2) * b**2 + (2- 2 * m**2) *akap *b\n",
    "expression = expression.subs(akap,kap*(ai + a0)+(1-kap)*a)\n",
    "polynomial = Poly(collect(expand(expression),ai),ai)\n",
    "\n",
    "print_coeffs(polynomial)"
   ]
  }
 ],
 "metadata": {
  "kernelspec": {
   "display_name": "Python 3 (ipykernel)",
   "language": "python",
   "name": "python3"
  },
  "language_info": {
   "codemirror_mode": {
    "name": "ipython",
    "version": 3
   },
   "file_extension": ".py",
   "mimetype": "text/x-python",
   "name": "python",
   "nbconvert_exporter": "python",
   "pygments_lexer": "ipython3",
   "version": "3.11.7"
  }
 },
 "nbformat": 4,
 "nbformat_minor": 5
}
